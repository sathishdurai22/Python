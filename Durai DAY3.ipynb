{
 "cells": [
  {
   "cell_type": "code",
   "execution_count": 1,
   "id": "7624db9c",
   "metadata": {},
   "outputs": [],
   "source": [
    "import pandas as pd\n",
    "import numpy as np\n",
    "import matplotlib.pyplot as plt\n",
    "import seaborn as sns\n"
   ]
  },
  {
   "cell_type": "code",
   "execution_count": 2,
   "id": "b9789261",
   "metadata": {},
   "outputs": [
    {
     "data": {
      "text/html": [
       "<div>\n",
       "<style scoped>\n",
       "    .dataframe tbody tr th:only-of-type {\n",
       "        vertical-align: middle;\n",
       "    }\n",
       "\n",
       "    .dataframe tbody tr th {\n",
       "        vertical-align: top;\n",
       "    }\n",
       "\n",
       "    .dataframe thead th {\n",
       "        text-align: right;\n",
       "    }\n",
       "</style>\n",
       "<table border=\"1\" class=\"dataframe\">\n",
       "  <thead>\n",
       "    <tr style=\"text-align: right;\">\n",
       "      <th></th>\n",
       "      <th>Unnamed: 0</th>\n",
       "      <th>trans_date_trans_time</th>\n",
       "      <th>trans_num</th>\n",
       "      <th>first</th>\n",
       "      <th>cc_num</th>\n",
       "      <th>merchant</th>\n",
       "      <th>category</th>\n",
       "      <th>amt</th>\n",
       "      <th>last</th>\n",
       "      <th>gender</th>\n",
       "      <th>...</th>\n",
       "      <th>zip</th>\n",
       "      <th>lat</th>\n",
       "      <th>long</th>\n",
       "      <th>city_pop</th>\n",
       "      <th>job</th>\n",
       "      <th>dob</th>\n",
       "      <th>unix_time</th>\n",
       "      <th>merch_lat</th>\n",
       "      <th>merch_long</th>\n",
       "      <th>is_fraud</th>\n",
       "    </tr>\n",
       "  </thead>\n",
       "  <tbody>\n",
       "    <tr>\n",
       "      <th>0</th>\n",
       "      <td>0</td>\n",
       "      <td>1/1/2019 0:00</td>\n",
       "      <td>0b242abb623afc578575680df30655b9</td>\n",
       "      <td>Jennifer</td>\n",
       "      <td>2.700000e+15</td>\n",
       "      <td>fraud_Rippin, Kub and Mann</td>\n",
       "      <td>misc_net</td>\n",
       "      <td>4.97</td>\n",
       "      <td>Banks</td>\n",
       "      <td>F</td>\n",
       "      <td>...</td>\n",
       "      <td>28654</td>\n",
       "      <td>36.0788</td>\n",
       "      <td>-81.1781</td>\n",
       "      <td>3495</td>\n",
       "      <td>Psychologist, counselling</td>\n",
       "      <td>3/9/1988</td>\n",
       "      <td>1325376018</td>\n",
       "      <td>36.011293</td>\n",
       "      <td>-82.048315</td>\n",
       "      <td>0</td>\n",
       "    </tr>\n",
       "    <tr>\n",
       "      <th>1</th>\n",
       "      <td>1</td>\n",
       "      <td>1/1/2019 0:00</td>\n",
       "      <td>1f76529f8574734946361c461b024d99</td>\n",
       "      <td>Stephanie</td>\n",
       "      <td>6.300000e+11</td>\n",
       "      <td>fraud_Heller, Gutmann and Zieme</td>\n",
       "      <td>grocery_pos</td>\n",
       "      <td>107.23</td>\n",
       "      <td>Gill</td>\n",
       "      <td>F</td>\n",
       "      <td>...</td>\n",
       "      <td>99160</td>\n",
       "      <td>48.8878</td>\n",
       "      <td>-118.2105</td>\n",
       "      <td>149</td>\n",
       "      <td>Special educational needs teacher</td>\n",
       "      <td>6/21/1978</td>\n",
       "      <td>1325376044</td>\n",
       "      <td>49.159047</td>\n",
       "      <td>-118.186462</td>\n",
       "      <td>0</td>\n",
       "    </tr>\n",
       "    <tr>\n",
       "      <th>2</th>\n",
       "      <td>2</td>\n",
       "      <td>1/1/2019 0:00</td>\n",
       "      <td>a1a22d70485983eac12b5b88dad1cf95</td>\n",
       "      <td>Edward</td>\n",
       "      <td>3.890000e+13</td>\n",
       "      <td>fraud_Lind-Buckridge</td>\n",
       "      <td>entertainment</td>\n",
       "      <td>220.11</td>\n",
       "      <td>Sanchez</td>\n",
       "      <td>M</td>\n",
       "      <td>...</td>\n",
       "      <td>83252</td>\n",
       "      <td>42.1808</td>\n",
       "      <td>-112.2620</td>\n",
       "      <td>4154</td>\n",
       "      <td>Nature conservation officer</td>\n",
       "      <td>1/19/1962</td>\n",
       "      <td>1325376051</td>\n",
       "      <td>43.150704</td>\n",
       "      <td>-112.154481</td>\n",
       "      <td>0</td>\n",
       "    </tr>\n",
       "    <tr>\n",
       "      <th>3</th>\n",
       "      <td>3</td>\n",
       "      <td>1/1/2019 0:01</td>\n",
       "      <td>6b849c168bdad6f867558c3793159a81</td>\n",
       "      <td>Jeremy</td>\n",
       "      <td>3.530000e+15</td>\n",
       "      <td>fraud_Kutch, Hermiston and Farrell</td>\n",
       "      <td>gas_transport</td>\n",
       "      <td>45.00</td>\n",
       "      <td>White</td>\n",
       "      <td>M</td>\n",
       "      <td>...</td>\n",
       "      <td>59632</td>\n",
       "      <td>46.2306</td>\n",
       "      <td>-112.1138</td>\n",
       "      <td>1939</td>\n",
       "      <td>Patent attorney</td>\n",
       "      <td>1/12/1967</td>\n",
       "      <td>1325376076</td>\n",
       "      <td>47.034331</td>\n",
       "      <td>-112.561071</td>\n",
       "      <td>0</td>\n",
       "    </tr>\n",
       "    <tr>\n",
       "      <th>4</th>\n",
       "      <td>4</td>\n",
       "      <td>1/1/2019 0:03</td>\n",
       "      <td>a41d7549acf90789359a9aa5346dcb46</td>\n",
       "      <td>Tyler</td>\n",
       "      <td>3.760000e+14</td>\n",
       "      <td>fraud_Keeling-Crist</td>\n",
       "      <td>misc_pos</td>\n",
       "      <td>41.96</td>\n",
       "      <td>Garcia</td>\n",
       "      <td>M</td>\n",
       "      <td>...</td>\n",
       "      <td>24433</td>\n",
       "      <td>38.4207</td>\n",
       "      <td>-79.4629</td>\n",
       "      <td>99</td>\n",
       "      <td>Dance movement psychotherapist</td>\n",
       "      <td>3/28/1986</td>\n",
       "      <td>1325376186</td>\n",
       "      <td>38.674999</td>\n",
       "      <td>-78.632459</td>\n",
       "      <td>0</td>\n",
       "    </tr>\n",
       "  </tbody>\n",
       "</table>\n",
       "<p>5 rows × 23 columns</p>\n",
       "</div>"
      ],
      "text/plain": [
       "   Unnamed: 0 trans_date_trans_time                         trans_num  \\\n",
       "0           0         1/1/2019 0:00  0b242abb623afc578575680df30655b9   \n",
       "1           1         1/1/2019 0:00  1f76529f8574734946361c461b024d99   \n",
       "2           2         1/1/2019 0:00  a1a22d70485983eac12b5b88dad1cf95   \n",
       "3           3         1/1/2019 0:01  6b849c168bdad6f867558c3793159a81   \n",
       "4           4         1/1/2019 0:03  a41d7549acf90789359a9aa5346dcb46   \n",
       "\n",
       "       first        cc_num                            merchant       category  \\\n",
       "0   Jennifer  2.700000e+15          fraud_Rippin, Kub and Mann       misc_net   \n",
       "1  Stephanie  6.300000e+11     fraud_Heller, Gutmann and Zieme    grocery_pos   \n",
       "2     Edward  3.890000e+13                fraud_Lind-Buckridge  entertainment   \n",
       "3     Jeremy  3.530000e+15  fraud_Kutch, Hermiston and Farrell  gas_transport   \n",
       "4      Tyler  3.760000e+14                 fraud_Keeling-Crist       misc_pos   \n",
       "\n",
       "      amt     last gender  ...    zip      lat      long  city_pop  \\\n",
       "0    4.97    Banks      F  ...  28654  36.0788  -81.1781      3495   \n",
       "1  107.23     Gill      F  ...  99160  48.8878 -118.2105       149   \n",
       "2  220.11  Sanchez      M  ...  83252  42.1808 -112.2620      4154   \n",
       "3   45.00    White      M  ...  59632  46.2306 -112.1138      1939   \n",
       "4   41.96   Garcia      M  ...  24433  38.4207  -79.4629        99   \n",
       "\n",
       "                                 job        dob   unix_time  merch_lat  \\\n",
       "0          Psychologist, counselling   3/9/1988  1325376018  36.011293   \n",
       "1  Special educational needs teacher  6/21/1978  1325376044  49.159047   \n",
       "2        Nature conservation officer  1/19/1962  1325376051  43.150704   \n",
       "3                    Patent attorney  1/12/1967  1325376076  47.034331   \n",
       "4     Dance movement psychotherapist  3/28/1986  1325376186  38.674999   \n",
       "\n",
       "   merch_long  is_fraud  \n",
       "0  -82.048315         0  \n",
       "1 -118.186462         0  \n",
       "2 -112.154481         0  \n",
       "3 -112.561071         0  \n",
       "4  -78.632459         0  \n",
       "\n",
       "[5 rows x 23 columns]"
      ]
     },
     "execution_count": 2,
     "metadata": {},
     "output_type": "execute_result"
    }
   ],
   "source": [
    "data=pd.read_csv('fraud-detection.csv')\n",
    "data.head()"
   ]
  },
  {
   "cell_type": "code",
   "execution_count": 3,
   "id": "81f42620",
   "metadata": {},
   "outputs": [
    {
     "data": {
      "text/html": [
       "<div>\n",
       "<style scoped>\n",
       "    .dataframe tbody tr th:only-of-type {\n",
       "        vertical-align: middle;\n",
       "    }\n",
       "\n",
       "    .dataframe tbody tr th {\n",
       "        vertical-align: top;\n",
       "    }\n",
       "\n",
       "    .dataframe thead th {\n",
       "        text-align: right;\n",
       "    }\n",
       "</style>\n",
       "<table border=\"1\" class=\"dataframe\">\n",
       "  <thead>\n",
       "    <tr style=\"text-align: right;\">\n",
       "      <th></th>\n",
       "      <th>count</th>\n",
       "      <th>mean</th>\n",
       "      <th>std</th>\n",
       "      <th>min</th>\n",
       "      <th>25%</th>\n",
       "      <th>50%</th>\n",
       "      <th>75%</th>\n",
       "      <th>max</th>\n",
       "    </tr>\n",
       "  </thead>\n",
       "  <tbody>\n",
       "    <tr>\n",
       "      <th>Unnamed: 0</th>\n",
       "      <td>108.0</td>\n",
       "      <td>5.350000e+01</td>\n",
       "      <td>3.132092e+01</td>\n",
       "      <td>0.000000e+00</td>\n",
       "      <td>2.675000e+01</td>\n",
       "      <td>5.350000e+01</td>\n",
       "      <td>8.025000e+01</td>\n",
       "      <td>1.070000e+02</td>\n",
       "    </tr>\n",
       "    <tr>\n",
       "      <th>cc_num</th>\n",
       "      <td>108.0</td>\n",
       "      <td>4.164294e+17</td>\n",
       "      <td>1.304583e+18</td>\n",
       "      <td>6.049559e+10</td>\n",
       "      <td>2.047500e+14</td>\n",
       "      <td>3.510000e+15</td>\n",
       "      <td>4.712500e+15</td>\n",
       "      <td>4.960000e+18</td>\n",
       "    </tr>\n",
       "    <tr>\n",
       "      <th>amt</th>\n",
       "      <td>108.0</td>\n",
       "      <td>7.929111e+01</td>\n",
       "      <td>7.253344e+01</td>\n",
       "      <td>1.820000e+00</td>\n",
       "      <td>4.275500e+01</td>\n",
       "      <td>6.023500e+01</td>\n",
       "      <td>9.455500e+01</td>\n",
       "      <td>3.416700e+02</td>\n",
       "    </tr>\n",
       "    <tr>\n",
       "      <th>zip</th>\n",
       "      <td>108.0</td>\n",
       "      <td>4.725331e+04</td>\n",
       "      <td>2.826934e+04</td>\n",
       "      <td>1.545000e+03</td>\n",
       "      <td>2.143800e+04</td>\n",
       "      <td>4.785050e+04</td>\n",
       "      <td>7.183325e+04</td>\n",
       "      <td>9.916000e+04</td>\n",
       "    </tr>\n",
       "    <tr>\n",
       "      <th>lat</th>\n",
       "      <td>108.0</td>\n",
       "      <td>3.891600e+01</td>\n",
       "      <td>5.120060e+00</td>\n",
       "      <td>2.008270e+01</td>\n",
       "      <td>3.638490e+01</td>\n",
       "      <td>3.983655e+01</td>\n",
       "      <td>4.217772e+01</td>\n",
       "      <td>4.888780e+01</td>\n",
       "    </tr>\n",
       "    <tr>\n",
       "      <th>long</th>\n",
       "      <td>108.0</td>\n",
       "      <td>-9.068918e+01</td>\n",
       "      <td>1.529517e+01</td>\n",
       "      <td>-1.554880e+02</td>\n",
       "      <td>-9.897010e+01</td>\n",
       "      <td>-8.724110e+01</td>\n",
       "      <td>-7.961125e+01</td>\n",
       "      <td>-6.996560e+01</td>\n",
       "    </tr>\n",
       "    <tr>\n",
       "      <th>city_pop</th>\n",
       "      <td>108.0</td>\n",
       "      <td>6.862706e+04</td>\n",
       "      <td>2.269826e+05</td>\n",
       "      <td>4.600000e+01</td>\n",
       "      <td>6.232500e+02</td>\n",
       "      <td>2.180000e+03</td>\n",
       "      <td>1.921175e+04</td>\n",
       "      <td>1.577385e+06</td>\n",
       "    </tr>\n",
       "    <tr>\n",
       "      <th>unix_time</th>\n",
       "      <td>108.0</td>\n",
       "      <td>1.325378e+09</td>\n",
       "      <td>1.443214e+03</td>\n",
       "      <td>1.325376e+09</td>\n",
       "      <td>1.325377e+09</td>\n",
       "      <td>1.325378e+09</td>\n",
       "      <td>1.325380e+09</td>\n",
       "      <td>1.325381e+09</td>\n",
       "    </tr>\n",
       "    <tr>\n",
       "      <th>merch_lat</th>\n",
       "      <td>108.0</td>\n",
       "      <td>3.894132e+01</td>\n",
       "      <td>5.156607e+00</td>\n",
       "      <td>1.956001e+01</td>\n",
       "      <td>3.639168e+01</td>\n",
       "      <td>3.996926e+01</td>\n",
       "      <td>4.194114e+01</td>\n",
       "      <td>4.915905e+01</td>\n",
       "    </tr>\n",
       "    <tr>\n",
       "      <th>merch_long</th>\n",
       "      <td>108.0</td>\n",
       "      <td>-9.078677e+01</td>\n",
       "      <td>1.527119e+01</td>\n",
       "      <td>-1.560459e+02</td>\n",
       "      <td>-9.905209e+01</td>\n",
       "      <td>-8.731201e+01</td>\n",
       "      <td>-7.915653e+01</td>\n",
       "      <td>-7.044936e+01</td>\n",
       "    </tr>\n",
       "    <tr>\n",
       "      <th>is_fraud</th>\n",
       "      <td>108.0</td>\n",
       "      <td>1.203704e-01</td>\n",
       "      <td>3.269111e-01</td>\n",
       "      <td>0.000000e+00</td>\n",
       "      <td>0.000000e+00</td>\n",
       "      <td>0.000000e+00</td>\n",
       "      <td>0.000000e+00</td>\n",
       "      <td>1.000000e+00</td>\n",
       "    </tr>\n",
       "  </tbody>\n",
       "</table>\n",
       "</div>"
      ],
      "text/plain": [
       "            count          mean           std           min           25%  \\\n",
       "Unnamed: 0  108.0  5.350000e+01  3.132092e+01  0.000000e+00  2.675000e+01   \n",
       "cc_num      108.0  4.164294e+17  1.304583e+18  6.049559e+10  2.047500e+14   \n",
       "amt         108.0  7.929111e+01  7.253344e+01  1.820000e+00  4.275500e+01   \n",
       "zip         108.0  4.725331e+04  2.826934e+04  1.545000e+03  2.143800e+04   \n",
       "lat         108.0  3.891600e+01  5.120060e+00  2.008270e+01  3.638490e+01   \n",
       "long        108.0 -9.068918e+01  1.529517e+01 -1.554880e+02 -9.897010e+01   \n",
       "city_pop    108.0  6.862706e+04  2.269826e+05  4.600000e+01  6.232500e+02   \n",
       "unix_time   108.0  1.325378e+09  1.443214e+03  1.325376e+09  1.325377e+09   \n",
       "merch_lat   108.0  3.894132e+01  5.156607e+00  1.956001e+01  3.639168e+01   \n",
       "merch_long  108.0 -9.078677e+01  1.527119e+01 -1.560459e+02 -9.905209e+01   \n",
       "is_fraud    108.0  1.203704e-01  3.269111e-01  0.000000e+00  0.000000e+00   \n",
       "\n",
       "                     50%           75%           max  \n",
       "Unnamed: 0  5.350000e+01  8.025000e+01  1.070000e+02  \n",
       "cc_num      3.510000e+15  4.712500e+15  4.960000e+18  \n",
       "amt         6.023500e+01  9.455500e+01  3.416700e+02  \n",
       "zip         4.785050e+04  7.183325e+04  9.916000e+04  \n",
       "lat         3.983655e+01  4.217772e+01  4.888780e+01  \n",
       "long       -8.724110e+01 -7.961125e+01 -6.996560e+01  \n",
       "city_pop    2.180000e+03  1.921175e+04  1.577385e+06  \n",
       "unix_time   1.325378e+09  1.325380e+09  1.325381e+09  \n",
       "merch_lat   3.996926e+01  4.194114e+01  4.915905e+01  \n",
       "merch_long -8.731201e+01 -7.915653e+01 -7.044936e+01  \n",
       "is_fraud    0.000000e+00  0.000000e+00  1.000000e+00  "
      ]
     },
     "execution_count": 3,
     "metadata": {},
     "output_type": "execute_result"
    }
   ],
   "source": [
    "data.describe().T"
   ]
  },
  {
   "cell_type": "code",
   "execution_count": 4,
   "id": "4c749bb2",
   "metadata": {},
   "outputs": [
    {
     "data": {
      "text/plain": [
       "Unnamed: 0               0\n",
       "trans_date_trans_time    0\n",
       "trans_num                0\n",
       "first                    0\n",
       "cc_num                   0\n",
       "merchant                 0\n",
       "category                 0\n",
       "amt                      0\n",
       "last                     0\n",
       "gender                   0\n",
       "street                   0\n",
       "city                     0\n",
       "state                    0\n",
       "zip                      0\n",
       "lat                      0\n",
       "long                     0\n",
       "city_pop                 0\n",
       "job                      0\n",
       "dob                      0\n",
       "unix_time                0\n",
       "merch_lat                0\n",
       "merch_long               0\n",
       "is_fraud                 0\n",
       "dtype: int64"
      ]
     },
     "execution_count": 4,
     "metadata": {},
     "output_type": "execute_result"
    }
   ],
   "source": [
    "data.isna().sum()"
   ]
  },
  {
   "cell_type": "code",
   "execution_count": 5,
   "id": "a0bdf3a0",
   "metadata": {},
   "outputs": [
    {
     "data": {
      "text/plain": [
       "array([[<Axes: title={'center': 'Unnamed: 0'}>,\n",
       "        <Axes: title={'center': 'cc_num'}>,\n",
       "        <Axes: title={'center': 'amt'}>],\n",
       "       [<Axes: title={'center': 'zip'}>, <Axes: title={'center': 'lat'}>,\n",
       "        <Axes: title={'center': 'long'}>],\n",
       "       [<Axes: title={'center': 'city_pop'}>,\n",
       "        <Axes: title={'center': 'unix_time'}>,\n",
       "        <Axes: title={'center': 'merch_lat'}>],\n",
       "       [<Axes: title={'center': 'merch_long'}>,\n",
       "        <Axes: title={'center': 'is_fraud'}>, <Axes: >]], dtype=object)"
      ]
     },
     "execution_count": 5,
     "metadata": {},
     "output_type": "execute_result"
    },
    {
     "data": {
      "image/png": "[encoded data removed]",
      "text/plain": [
       "<Figure size 1600x900 with 12 Axes>"
      ]
     },
     "metadata": {},
     "output_type": "display_data"
    }
   ],
   "source": [
    "data.hist(figsize=(16,9))"
   ]
  },
  {
   "cell_type": "code",
   "execution_count": 6,
   "id": "1b4ef399",
   "metadata": {},
   "outputs": [
    {
     "data": {
      "text/html": [
       "<div>\n",
       "<style scoped>\n",
       "    .dataframe tbody tr th:only-of-type {\n",
       "        vertical-align: middle;\n",
       "    }\n",
       "\n",
       "    .dataframe tbody tr th {\n",
       "        vertical-align: top;\n",
       "    }\n",
       "\n",
       "    .dataframe thead th {\n",
       "        text-align: right;\n",
       "    }\n",
       "</style>\n",
       "<table border=\"1\" class=\"dataframe\">\n",
       "  <thead>\n",
       "    <tr style=\"text-align: right;\">\n",
       "      <th></th>\n",
       "      <th>Unnamed: 0</th>\n",
       "      <th>trans_date_trans_time</th>\n",
       "      <th>trans_num</th>\n",
       "      <th>first</th>\n",
       "      <th>cc_num</th>\n",
       "      <th>merchant</th>\n",
       "      <th>category</th>\n",
       "      <th>amt</th>\n",
       "      <th>last</th>\n",
       "      <th>gender</th>\n",
       "      <th>...</th>\n",
       "      <th>zip</th>\n",
       "      <th>lat</th>\n",
       "      <th>long</th>\n",
       "      <th>city_pop</th>\n",
       "      <th>job</th>\n",
       "      <th>dob</th>\n",
       "      <th>unix_time</th>\n",
       "      <th>merch_lat</th>\n",
       "      <th>merch_long</th>\n",
       "      <th>is_fraud</th>\n",
       "    </tr>\n",
       "  </thead>\n",
       "  <tbody>\n",
       "    <tr>\n",
       "      <th>0</th>\n",
       "      <td>0</td>\n",
       "      <td>0</td>\n",
       "      <td>7</td>\n",
       "      <td>35</td>\n",
       "      <td>2.700000e+15</td>\n",
       "      <td>fraud_Rippin, Kub and Mann</td>\n",
       "      <td>misc_net</td>\n",
       "      <td>4.97</td>\n",
       "      <td>Banks</td>\n",
       "      <td>F</td>\n",
       "      <td>...</td>\n",
       "      <td>28654</td>\n",
       "      <td>36.0788</td>\n",
       "      <td>-81.1781</td>\n",
       "      <td>3495</td>\n",
       "      <td>Psychologist, counselling</td>\n",
       "      <td>3/9/1988</td>\n",
       "      <td>1325376018</td>\n",
       "      <td>36.011293</td>\n",
       "      <td>-82.048315</td>\n",
       "      <td>0</td>\n",
       "    </tr>\n",
       "    <tr>\n",
       "      <th>1</th>\n",
       "      <td>1</td>\n",
       "      <td>0</td>\n",
       "      <td>18</td>\n",
       "      <td>68</td>\n",
       "      <td>6.300000e+11</td>\n",
       "      <td>fraud_Heller, Gutmann and Zieme</td>\n",
       "      <td>grocery_pos</td>\n",
       "      <td>107.23</td>\n",
       "      <td>Gill</td>\n",
       "      <td>F</td>\n",
       "      <td>...</td>\n",
       "      <td>99160</td>\n",
       "      <td>48.8878</td>\n",
       "      <td>-118.2105</td>\n",
       "      <td>149</td>\n",
       "      <td>Special educational needs teacher</td>\n",
       "      <td>6/21/1978</td>\n",
       "      <td>1325376044</td>\n",
       "      <td>49.159047</td>\n",
       "      <td>-118.186462</td>\n",
       "      <td>0</td>\n",
       "    </tr>\n",
       "    <tr>\n",
       "      <th>2</th>\n",
       "      <td>2</td>\n",
       "      <td>0</td>\n",
       "      <td>73</td>\n",
       "      <td>21</td>\n",
       "      <td>3.890000e+13</td>\n",
       "      <td>fraud_Lind-Buckridge</td>\n",
       "      <td>entertainment</td>\n",
       "      <td>220.11</td>\n",
       "      <td>Sanchez</td>\n",
       "      <td>M</td>\n",
       "      <td>...</td>\n",
       "      <td>83252</td>\n",
       "      <td>42.1808</td>\n",
       "      <td>-112.2620</td>\n",
       "      <td>4154</td>\n",
       "      <td>Nature conservation officer</td>\n",
       "      <td>1/19/1962</td>\n",
       "      <td>1325376051</td>\n",
       "      <td>43.150704</td>\n",
       "      <td>-112.154481</td>\n",
       "      <td>0</td>\n",
       "    </tr>\n",
       "    <tr>\n",
       "      <th>3</th>\n",
       "      <td>3</td>\n",
       "      <td>1</td>\n",
       "      <td>45</td>\n",
       "      <td>36</td>\n",
       "      <td>3.530000e+15</td>\n",
       "      <td>fraud_Kutch, Hermiston and Farrell</td>\n",
       "      <td>gas_transport</td>\n",
       "      <td>45.00</td>\n",
       "      <td>White</td>\n",
       "      <td>M</td>\n",
       "      <td>...</td>\n",
       "      <td>59632</td>\n",
       "      <td>46.2306</td>\n",
       "      <td>-112.1138</td>\n",
       "      <td>1939</td>\n",
       "      <td>Patent attorney</td>\n",
       "      <td>1/12/1967</td>\n",
       "      <td>1325376076</td>\n",
       "      <td>47.034331</td>\n",
       "      <td>-112.561071</td>\n",
       "      <td>0</td>\n",
       "    </tr>\n",
       "    <tr>\n",
       "      <th>4</th>\n",
       "      <td>4</td>\n",
       "      <td>2</td>\n",
       "      <td>74</td>\n",
       "      <td>76</td>\n",
       "      <td>3.760000e+14</td>\n",
       "      <td>fraud_Keeling-Crist</td>\n",
       "      <td>misc_pos</td>\n",
       "      <td>41.96</td>\n",
       "      <td>Garcia</td>\n",
       "      <td>M</td>\n",
       "      <td>...</td>\n",
       "      <td>24433</td>\n",
       "      <td>38.4207</td>\n",
       "      <td>-79.4629</td>\n",
       "      <td>99</td>\n",
       "      <td>Dance movement psychotherapist</td>\n",
       "      <td>3/28/1986</td>\n",
       "      <td>1325376186</td>\n",
       "      <td>38.674999</td>\n",
       "      <td>-78.632459</td>\n",
       "      <td>0</td>\n",
       "    </tr>\n",
       "  </tbody>\n",
       "</table>\n",
       "<p>5 rows × 23 columns</p>\n",
       "</div>"
      ],
      "text/plain": [
       "   Unnamed: 0  trans_date_trans_time  trans_num  first        cc_num  \\\n",
       "0           0                      0          7     35  2.700000e+15   \n",
       "1           1                      0         18     68  6.300000e+11   \n",
       "2           2                      0         73     21  3.890000e+13   \n",
       "3           3                      1         45     36  3.530000e+15   \n",
       "4           4                      2         74     76  3.760000e+14   \n",
       "\n",
       "                             merchant       category     amt     last gender  \\\n",
       "0          fraud_Rippin, Kub and Mann       misc_net    4.97    Banks      F   \n",
       "1     fraud_Heller, Gutmann and Zieme    grocery_pos  107.23     Gill      F   \n",
       "2                fraud_Lind-Buckridge  entertainment  220.11  Sanchez      M   \n",
       "3  fraud_Kutch, Hermiston and Farrell  gas_transport   45.00    White      M   \n",
       "4                 fraud_Keeling-Crist       misc_pos   41.96   Garcia      M   \n",
       "\n",
       "   ...    zip      lat      long  city_pop                                job  \\\n",
       "0  ...  28654  36.0788  -81.1781      3495          Psychologist, counselling   \n",
       "1  ...  99160  48.8878 -118.2105       149  Special educational needs teacher   \n",
       "2  ...  83252  42.1808 -112.2620      4154        Nature conservation officer   \n",
       "3  ...  59632  46.2306 -112.1138      1939                    Patent attorney   \n",
       "4  ...  24433  38.4207  -79.4629        99     Dance movement psychotherapist   \n",
       "\n",
       "         dob   unix_time  merch_lat  merch_long  is_fraud  \n",
       "0   3/9/1988  1325376018  36.011293  -82.048315         0  \n",
       "1  6/21/1978  1325376044  49.159047 -118.186462         0  \n",
       "2  1/19/1962  1325376051  43.150704 -112.154481         0  \n",
       "3  1/12/1967  1325376076  47.034331 -112.561071         0  \n",
       "4  3/28/1986  1325376186  38.674999  -78.632459         0  \n",
       "\n",
       "[5 rows x 23 columns]"
      ]
     },
     "execution_count": 6,
     "metadata": {},
     "output_type": "execute_result"
    }
   ],
   "source": [
    "from sklearn.preprocessing import LabelEncoder\n",
    "le=LabelEncoder()\n",
    "data['trans_date_trans_time']=le.fit_transform(data['trans_date_trans_time'])\n",
    "data['trans_num']=le.fit_transform(data['trans_num'])\n",
    "data['first']=le.fit_transform(data['first'])\n",
    "data.head()"
   ]
  },
  {
   "cell_type": "code",
   "execution_count": 7,
   "id": "66326d47",
   "metadata": {},
   "outputs": [],
   "source": [
    "x=data.iloc[:,1:4]\n",
    "y=data.iloc[:,-1:]"
   ]
  },
  {
   "cell_type": "code",
   "execution_count": 8,
   "id": "419d5bed",
   "metadata": {},
   "outputs": [
    {
     "data": {
      "text/html": [
       "<div>\n",
       "<style scoped>\n",
       "    .dataframe tbody tr th:only-of-type {\n",
       "        vertical-align: middle;\n",
       "    }\n",
       "\n",
       "    .dataframe tbody tr th {\n",
       "        vertical-align: top;\n",
       "    }\n",
       "\n",
       "    .dataframe thead th {\n",
       "        text-align: right;\n",
       "    }\n",
       "</style>\n",
       "<table border=\"1\" class=\"dataframe\">\n",
       "  <thead>\n",
       "    <tr style=\"text-align: right;\">\n",
       "      <th></th>\n",
       "      <th>trans_date_trans_time</th>\n",
       "      <th>trans_num</th>\n",
       "      <th>first</th>\n",
       "    </tr>\n",
       "  </thead>\n",
       "  <tbody>\n",
       "    <tr>\n",
       "      <th>0</th>\n",
       "      <td>0</td>\n",
       "      <td>7</td>\n",
       "      <td>35</td>\n",
       "    </tr>\n",
       "    <tr>\n",
       "      <th>1</th>\n",
       "      <td>0</td>\n",
       "      <td>18</td>\n",
       "      <td>68</td>\n",
       "    </tr>\n",
       "    <tr>\n",
       "      <th>2</th>\n",
       "      <td>0</td>\n",
       "      <td>73</td>\n",
       "      <td>21</td>\n",
       "    </tr>\n",
       "    <tr>\n",
       "      <th>3</th>\n",
       "      <td>1</td>\n",
       "      <td>45</td>\n",
       "      <td>36</td>\n",
       "    </tr>\n",
       "    <tr>\n",
       "      <th>4</th>\n",
       "      <td>2</td>\n",
       "      <td>74</td>\n",
       "      <td>76</td>\n",
       "    </tr>\n",
       "    <tr>\n",
       "      <th>...</th>\n",
       "      <td>...</td>\n",
       "      <td>...</td>\n",
       "      <td>...</td>\n",
       "    </tr>\n",
       "    <tr>\n",
       "      <th>103</th>\n",
       "      <td>62</td>\n",
       "      <td>77</td>\n",
       "      <td>52</td>\n",
       "    </tr>\n",
       "    <tr>\n",
       "      <th>104</th>\n",
       "      <td>62</td>\n",
       "      <td>98</td>\n",
       "      <td>57</td>\n",
       "    </tr>\n",
       "    <tr>\n",
       "      <th>105</th>\n",
       "      <td>63</td>\n",
       "      <td>81</td>\n",
       "      <td>51</td>\n",
       "    </tr>\n",
       "    <tr>\n",
       "      <th>106</th>\n",
       "      <td>64</td>\n",
       "      <td>64</td>\n",
       "      <td>12</td>\n",
       "    </tr>\n",
       "    <tr>\n",
       "      <th>107</th>\n",
       "      <td>65</td>\n",
       "      <td>70</td>\n",
       "      <td>41</td>\n",
       "    </tr>\n",
       "  </tbody>\n",
       "</table>\n",
       "<p>108 rows × 3 columns</p>\n",
       "</div>"
      ],
      "text/plain": [
       "     trans_date_trans_time  trans_num  first\n",
       "0                        0          7     35\n",
       "1                        0         18     68\n",
       "2                        0         73     21\n",
       "3                        1         45     36\n",
       "4                        2         74     76\n",
       "..                     ...        ...    ...\n",
       "103                     62         77     52\n",
       "104                     62         98     57\n",
       "105                     63         81     51\n",
       "106                     64         64     12\n",
       "107                     65         70     41\n",
       "\n",
       "[108 rows x 3 columns]"
      ]
     },
     "execution_count": 8,
     "metadata": {},
     "output_type": "execute_result"
    }
   ],
   "source": [
    "x"
   ]
  },
  {
   "cell_type": "code",
   "execution_count": 9,
   "id": "6cf8b834",
   "metadata": {},
   "outputs": [
    {
     "data": {
      "text/html": [
       "<div>\n",
       "<style scoped>\n",
       "    .dataframe tbody tr th:only-of-type {\n",
       "        vertical-align: middle;\n",
       "    }\n",
       "\n",
       "    .dataframe tbody tr th {\n",
       "        vertical-align: top;\n",
       "    }\n",
       "\n",
       "    .dataframe thead th {\n",
       "        text-align: right;\n",
       "    }\n",
       "</style>\n",
       "<table border=\"1\" class=\"dataframe\">\n",
       "  <thead>\n",
       "    <tr style=\"text-align: right;\">\n",
       "      <th></th>\n",
       "      <th>is_fraud</th>\n",
       "    </tr>\n",
       "  </thead>\n",
       "  <tbody>\n",
       "    <tr>\n",
       "      <th>0</th>\n",
       "      <td>0</td>\n",
       "    </tr>\n",
       "    <tr>\n",
       "      <th>1</th>\n",
       "      <td>0</td>\n",
       "    </tr>\n",
       "    <tr>\n",
       "      <th>2</th>\n",
       "      <td>0</td>\n",
       "    </tr>\n",
       "    <tr>\n",
       "      <th>3</th>\n",
       "      <td>0</td>\n",
       "    </tr>\n",
       "    <tr>\n",
       "      <th>4</th>\n",
       "      <td>0</td>\n",
       "    </tr>\n",
       "    <tr>\n",
       "      <th>...</th>\n",
       "      <td>...</td>\n",
       "    </tr>\n",
       "    <tr>\n",
       "      <th>103</th>\n",
       "      <td>0</td>\n",
       "    </tr>\n",
       "    <tr>\n",
       "      <th>104</th>\n",
       "      <td>0</td>\n",
       "    </tr>\n",
       "    <tr>\n",
       "      <th>105</th>\n",
       "      <td>0</td>\n",
       "    </tr>\n",
       "    <tr>\n",
       "      <th>106</th>\n",
       "      <td>0</td>\n",
       "    </tr>\n",
       "    <tr>\n",
       "      <th>107</th>\n",
       "      <td>0</td>\n",
       "    </tr>\n",
       "  </tbody>\n",
       "</table>\n",
       "<p>108 rows × 1 columns</p>\n",
       "</div>"
      ],
      "text/plain": [
       "     is_fraud\n",
       "0           0\n",
       "1           0\n",
       "2           0\n",
       "3           0\n",
       "4           0\n",
       "..        ...\n",
       "103         0\n",
       "104         0\n",
       "105         0\n",
       "106         0\n",
       "107         0\n",
       "\n",
       "[108 rows x 1 columns]"
      ]
     },
     "execution_count": 9,
     "metadata": {},
     "output_type": "execute_result"
    }
   ],
   "source": [
    "y"
   ]
  },
  {
   "cell_type": "code",
   "execution_count": 10,
   "id": "c3ded2e8",
   "metadata": {},
   "outputs": [],
   "source": [
    "import sklearn\n",
    "from sklearn.model_selection import train_test_split\n",
    "xtrain,xtest,ytrain,ytest=train_test_split(x,y,test_size=0.25,random_state=43)"
   ]
  },
  {
   "cell_type": "code",
   "execution_count": 11,
   "id": "75fd3f9d",
   "metadata": {},
   "outputs": [
    {
     "name": "stdout",
     "output_type": "stream",
     "text": [
      "Training Started.....\n",
      "\n",
      "\n",
      "[LibLinear]\n",
      "\n",
      "Training completed....\n",
      "\n",
      "Testing invoked\n",
      "predicted Total Outputs\n",
      " [0 0 0 0 0 0 0 0 0 0 0 0 0 0 0 0 0 0 0 0 0 0 0 0 0 0 0]\n",
      "\n",
      " Testing is also completed....\n",
      "\n"
     ]
    },
    {
     "name": "stderr",
     "output_type": "stream",
     "text": [
      "C:\\Users\\Sravan Kumar\\anaconda3\\Lib\\site-packages\\sklearn\\utils\\validation.py:1184: DataConversionWarning: A column-vector y was passed when a 1d array was expected. Please change the shape of y to (n_samples, ), for example using ravel().\n",
      "  y = column_or_1d(y, warn=True)\n"
     ]
    }
   ],
   "source": [
    "from sklearn.linear_model import LogisticRegression\n",
    "log_reg=LogisticRegression(solver=\"liblinear\",verbose=2)\n",
    "print(\"Training Started.....\\n\")\n",
    "print()\n",
    "log_reg.fit(xtrain,ytrain)\n",
    "print()\n",
    "print()\n",
    "print(\"Training completed....\")\n",
    "print()\n",
    "print(\"Testing invoked\")\n",
    "ypred=log_reg.predict(xtest)\n",
    "print(\"predicted Total Outputs\\n\",ypred)\n",
    "print('\\n Testing is also completed....\\n')"
   ]
  },
  {
   "cell_type": "code",
   "execution_count": 12,
   "id": "4c073c79",
   "metadata": {},
   "outputs": [
    {
     "name": "stdout",
     "output_type": "stream",
     "text": [
      "********************Performance Measures for Logistic Regression Classification*********\n",
      "Accuracy Score:\t\n",
      " 0.8888888888888888\n",
      "\n",
      "================================================================================\n",
      "Confusion Matrix:\n",
      " [[24  0]\n",
      " [ 3  0]]\n",
      "\n",
      "================================================================================\n",
      "Classification Report: \n",
      "               precision    recall  f1-score   support\n",
      "\n",
      "           0       0.89      1.00      0.94        24\n",
      "           1       0.00      0.00      0.00         3\n",
      "\n",
      "    accuracy                           0.89        27\n",
      "   macro avg       0.44      0.50      0.47        27\n",
      "weighted avg       0.79      0.89      0.84        27\n",
      "\n",
      "================================================================================\n"
     ]
    },
    {
     "name": "stderr",
     "output_type": "stream",
     "text": [
      "C:\\Users\\Sravan Kumar\\anaconda3\\Lib\\site-packages\\sklearn\\metrics\\_classification.py:1469: UndefinedMetricWarning: Precision and F-score are ill-defined and being set to 0.0 in labels with no predicted samples. Use `zero_division` parameter to control this behavior.\n",
      "  _warn_prf(average, modifier, msg_start, len(result))\n",
      "C:\\Users\\Sravan Kumar\\anaconda3\\Lib\\site-packages\\sklearn\\metrics\\_classification.py:1469: UndefinedMetricWarning: Precision and F-score are ill-defined and being set to 0.0 in labels with no predicted samples. Use `zero_division` parameter to control this behavior.\n",
      "  _warn_prf(average, modifier, msg_start, len(result))\n",
      "C:\\Users\\Sravan Kumar\\anaconda3\\Lib\\site-packages\\sklearn\\metrics\\_classification.py:1469: UndefinedMetricWarning: Precision and F-score are ill-defined and being set to 0.0 in labels with no predicted samples. Use `zero_division` parameter to control this behavior.\n",
      "  _warn_prf(average, modifier, msg_start, len(result))\n"
     ]
    }
   ],
   "source": [
    "from sklearn.metrics import accuracy_score\n",
    "\n",
    "from sklearn.metrics import confusion_matrix\n",
    "from sklearn.metrics import classification_report\n",
    "print('********************Performance Measures for Logistic Regression Classification*********')\n",
    "print('Accuracy Score:\\t\\n', accuracy_score(ytest, ypred))\n",
    "print()\n",
    "print('='*80)\n",
    "print('Confusion Matrix:\\n', confusion_matrix(ytest,ypred))\n",
    "print()\n",
    "print('='*80)\n",
    "print('Classification Report: \\n', classification_report(ytest,ypred))\n",
    "print('='*80)"
   ]
  },
  {
   "cell_type": "code",
   "execution_count": 13,
   "id": "d1fbd116",
   "metadata": {},
   "outputs": [],
   "source": [
    "from imblearn.over_sampling import SMOTE\n",
    "smote = SMOTE(sampling_strategy='auto',random_state=42)\n",
    "x_resampled, y_resampled=smote.fit_resample(x,y)\n"
   ]
  },
  {
   "cell_type": "code",
   "execution_count": 14,
   "id": "178df830",
   "metadata": {},
   "outputs": [
    {
     "data": {
      "text/html": [
       "<div>\n",
       "<style scoped>\n",
       "    .dataframe tbody tr th:only-of-type {\n",
       "        vertical-align: middle;\n",
       "    }\n",
       "\n",
       "    .dataframe tbody tr th {\n",
       "        vertical-align: top;\n",
       "    }\n",
       "\n",
       "    .dataframe thead th {\n",
       "        text-align: right;\n",
       "    }\n",
       "</style>\n",
       "<table border=\"1\" class=\"dataframe\">\n",
       "  <thead>\n",
       "    <tr style=\"text-align: right;\">\n",
       "      <th></th>\n",
       "      <th>trans_date_trans_time</th>\n",
       "      <th>trans_num</th>\n",
       "      <th>first</th>\n",
       "    </tr>\n",
       "  </thead>\n",
       "  <tbody>\n",
       "    <tr>\n",
       "      <th>0</th>\n",
       "      <td>0</td>\n",
       "      <td>7</td>\n",
       "      <td>35</td>\n",
       "    </tr>\n",
       "    <tr>\n",
       "      <th>1</th>\n",
       "      <td>0</td>\n",
       "      <td>18</td>\n",
       "      <td>68</td>\n",
       "    </tr>\n",
       "    <tr>\n",
       "      <th>2</th>\n",
       "      <td>0</td>\n",
       "      <td>73</td>\n",
       "      <td>21</td>\n",
       "    </tr>\n",
       "    <tr>\n",
       "      <th>3</th>\n",
       "      <td>1</td>\n",
       "      <td>45</td>\n",
       "      <td>36</td>\n",
       "    </tr>\n",
       "    <tr>\n",
       "      <th>4</th>\n",
       "      <td>2</td>\n",
       "      <td>74</td>\n",
       "      <td>76</td>\n",
       "    </tr>\n",
       "    <tr>\n",
       "      <th>...</th>\n",
       "      <td>...</td>\n",
       "      <td>...</td>\n",
       "      <td>...</td>\n",
       "    </tr>\n",
       "    <tr>\n",
       "      <th>185</th>\n",
       "      <td>52</td>\n",
       "      <td>19</td>\n",
       "      <td>17</td>\n",
       "    </tr>\n",
       "    <tr>\n",
       "      <th>186</th>\n",
       "      <td>43</td>\n",
       "      <td>32</td>\n",
       "      <td>14</td>\n",
       "    </tr>\n",
       "    <tr>\n",
       "      <th>187</th>\n",
       "      <td>12</td>\n",
       "      <td>101</td>\n",
       "      <td>43</td>\n",
       "    </tr>\n",
       "    <tr>\n",
       "      <th>188</th>\n",
       "      <td>41</td>\n",
       "      <td>31</td>\n",
       "      <td>26</td>\n",
       "    </tr>\n",
       "    <tr>\n",
       "      <th>189</th>\n",
       "      <td>41</td>\n",
       "      <td>31</td>\n",
       "      <td>23</td>\n",
       "    </tr>\n",
       "  </tbody>\n",
       "</table>\n",
       "<p>190 rows × 3 columns</p>\n",
       "</div>"
      ],
      "text/plain": [
       "     trans_date_trans_time  trans_num  first\n",
       "0                        0          7     35\n",
       "1                        0         18     68\n",
       "2                        0         73     21\n",
       "3                        1         45     36\n",
       "4                        2         74     76\n",
       "..                     ...        ...    ...\n",
       "185                     52         19     17\n",
       "186                     43         32     14\n",
       "187                     12        101     43\n",
       "188                     41         31     26\n",
       "189                     41         31     23\n",
       "\n",
       "[190 rows x 3 columns]"
      ]
     },
     "execution_count": 14,
     "metadata": {},
     "output_type": "execute_result"
    }
   ],
   "source": [
    "x_resampled"
   ]
  },
  {
   "cell_type": "code",
   "execution_count": 15,
   "id": "b30b3301",
   "metadata": {},
   "outputs": [
    {
     "data": {
      "text/html": [
       "<div>\n",
       "<style scoped>\n",
       "    .dataframe tbody tr th:only-of-type {\n",
       "        vertical-align: middle;\n",
       "    }\n",
       "\n",
       "    .dataframe tbody tr th {\n",
       "        vertical-align: top;\n",
       "    }\n",
       "\n",
       "    .dataframe thead th {\n",
       "        text-align: right;\n",
       "    }\n",
       "</style>\n",
       "<table border=\"1\" class=\"dataframe\">\n",
       "  <thead>\n",
       "    <tr style=\"text-align: right;\">\n",
       "      <th></th>\n",
       "      <th>is_fraud</th>\n",
       "    </tr>\n",
       "  </thead>\n",
       "  <tbody>\n",
       "    <tr>\n",
       "      <th>0</th>\n",
       "      <td>0</td>\n",
       "    </tr>\n",
       "    <tr>\n",
       "      <th>1</th>\n",
       "      <td>0</td>\n",
       "    </tr>\n",
       "    <tr>\n",
       "      <th>2</th>\n",
       "      <td>0</td>\n",
       "    </tr>\n",
       "    <tr>\n",
       "      <th>3</th>\n",
       "      <td>0</td>\n",
       "    </tr>\n",
       "    <tr>\n",
       "      <th>4</th>\n",
       "      <td>0</td>\n",
       "    </tr>\n",
       "    <tr>\n",
       "      <th>...</th>\n",
       "      <td>...</td>\n",
       "    </tr>\n",
       "    <tr>\n",
       "      <th>185</th>\n",
       "      <td>1</td>\n",
       "    </tr>\n",
       "    <tr>\n",
       "      <th>186</th>\n",
       "      <td>1</td>\n",
       "    </tr>\n",
       "    <tr>\n",
       "      <th>187</th>\n",
       "      <td>1</td>\n",
       "    </tr>\n",
       "    <tr>\n",
       "      <th>188</th>\n",
       "      <td>1</td>\n",
       "    </tr>\n",
       "    <tr>\n",
       "      <th>189</th>\n",
       "      <td>1</td>\n",
       "    </tr>\n",
       "  </tbody>\n",
       "</table>\n",
       "<p>190 rows × 1 columns</p>\n",
       "</div>"
      ],
      "text/plain": [
       "     is_fraud\n",
       "0           0\n",
       "1           0\n",
       "2           0\n",
       "3           0\n",
       "4           0\n",
       "..        ...\n",
       "185         1\n",
       "186         1\n",
       "187         1\n",
       "188         1\n",
       "189         1\n",
       "\n",
       "[190 rows x 1 columns]"
      ]
     },
     "execution_count": 15,
     "metadata": {},
     "output_type": "execute_result"
    }
   ],
   "source": [
    "y_resampled"
   ]
  },
  {
   "cell_type": "code",
   "execution_count": 21,
   "id": "ad093690",
   "metadata": {},
   "outputs": [],
   "source": [
    "from imblearn.under_sampling import RandomUnderSampler\n",
    "rus = RandomUnderSampler(sampling_strategy='auto', random_state=42)\n",
    "x_resampledx, y_resampledx = rus.fit_resample(x, y)"
   ]
  },
  {
   "cell_type": "code",
   "execution_count": 22,
   "id": "597b7d86",
   "metadata": {},
   "outputs": [
    {
     "data": {
      "text/html": [
       "<div>\n",
       "<style scoped>\n",
       "    .dataframe tbody tr th:only-of-type {\n",
       "        vertical-align: middle;\n",
       "    }\n",
       "\n",
       "    .dataframe tbody tr th {\n",
       "        vertical-align: top;\n",
       "    }\n",
       "\n",
       "    .dataframe thead th {\n",
       "        text-align: right;\n",
       "    }\n",
       "</style>\n",
       "<table border=\"1\" class=\"dataframe\">\n",
       "  <thead>\n",
       "    <tr style=\"text-align: right;\">\n",
       "      <th></th>\n",
       "      <th>trans_date_trans_time</th>\n",
       "      <th>trans_num</th>\n",
       "      <th>first</th>\n",
       "    </tr>\n",
       "  </thead>\n",
       "  <tbody>\n",
       "    <tr>\n",
       "      <th>78</th>\n",
       "      <td>46</td>\n",
       "      <td>9</td>\n",
       "      <td>24</td>\n",
       "    </tr>\n",
       "    <tr>\n",
       "      <th>24</th>\n",
       "      <td>14</td>\n",
       "      <td>90</td>\n",
       "      <td>58</td>\n",
       "    </tr>\n",
       "    <tr>\n",
       "      <th>83</th>\n",
       "      <td>49</td>\n",
       "      <td>23</td>\n",
       "      <td>14</td>\n",
       "    </tr>\n",
       "    <tr>\n",
       "      <th>84</th>\n",
       "      <td>50</td>\n",
       "      <td>17</td>\n",
       "      <td>0</td>\n",
       "    </tr>\n",
       "    <tr>\n",
       "      <th>0</th>\n",
       "      <td>0</td>\n",
       "      <td>7</td>\n",
       "      <td>35</td>\n",
       "    </tr>\n",
       "  </tbody>\n",
       "</table>\n",
       "</div>"
      ],
      "text/plain": [
       "    trans_date_trans_time  trans_num  first\n",
       "78                     46          9     24\n",
       "24                     14         90     58\n",
       "83                     49         23     14\n",
       "84                     50         17      0\n",
       "0                       0          7     35"
      ]
     },
     "execution_count": 22,
     "metadata": {},
     "output_type": "execute_result"
    }
   ],
   "source": [
    "x_resampledx.head()"
   ]
  },
  {
   "cell_type": "code",
   "execution_count": 23,
   "id": "714a5bb4",
   "metadata": {},
   "outputs": [
    {
     "data": {
      "text/html": [
       "<div>\n",
       "<style scoped>\n",
       "    .dataframe tbody tr th:only-of-type {\n",
       "        vertical-align: middle;\n",
       "    }\n",
       "\n",
       "    .dataframe tbody tr th {\n",
       "        vertical-align: top;\n",
       "    }\n",
       "\n",
       "    .dataframe thead th {\n",
       "        text-align: right;\n",
       "    }\n",
       "</style>\n",
       "<table border=\"1\" class=\"dataframe\">\n",
       "  <thead>\n",
       "    <tr style=\"text-align: right;\">\n",
       "      <th></th>\n",
       "      <th>is_fraud</th>\n",
       "    </tr>\n",
       "  </thead>\n",
       "  <tbody>\n",
       "    <tr>\n",
       "      <th>78</th>\n",
       "      <td>0</td>\n",
       "    </tr>\n",
       "    <tr>\n",
       "      <th>24</th>\n",
       "      <td>0</td>\n",
       "    </tr>\n",
       "    <tr>\n",
       "      <th>83</th>\n",
       "      <td>0</td>\n",
       "    </tr>\n",
       "    <tr>\n",
       "      <th>84</th>\n",
       "      <td>0</td>\n",
       "    </tr>\n",
       "    <tr>\n",
       "      <th>0</th>\n",
       "      <td>0</td>\n",
       "    </tr>\n",
       "  </tbody>\n",
       "</table>\n",
       "</div>"
      ],
      "text/plain": [
       "    is_fraud\n",
       "78         0\n",
       "24         0\n",
       "83         0\n",
       "84         0\n",
       "0          0"
      ]
     },
     "execution_count": 23,
     "metadata": {},
     "output_type": "execute_result"
    }
   ],
   "source": [
    "y_resampledx.head()"
   ]
  },
  {
   "cell_type": "code",
   "execution_count": 24,
   "id": "2c2eb0c2",
   "metadata": {},
   "outputs": [],
   "source": [
    "import sklearn\n",
    "from sklearn.model_selection import train_test_split\n",
    "xtrain,xtest,ytrain,ytest=train_test_split(x_resampledx,y_resampledx,test_size=0.25,random_state=43)"
   ]
  },
  {
   "cell_type": "code",
   "execution_count": 25,
   "id": "6f15981b",
   "metadata": {},
   "outputs": [
    {
     "name": "stdout",
     "output_type": "stream",
     "text": [
      "Training Started.....\n",
      "\n",
      "\n",
      "[LibLinear]\n",
      "\n",
      "Training completed....\n",
      "\n",
      "Testing invoked\n",
      "predicted Total Outputs\n",
      " [1 1 1 0 1 1 1]\n",
      "\n",
      " Testing is also completed....\n",
      "\n"
     ]
    },
    {
     "name": "stderr",
     "output_type": "stream",
     "text": [
      "C:\\Users\\Sravan Kumar\\anaconda3\\Lib\\site-packages\\sklearn\\utils\\validation.py:1184: DataConversionWarning: A column-vector y was passed when a 1d array was expected. Please change the shape of y to (n_samples, ), for example using ravel().\n",
      "  y = column_or_1d(y, warn=True)\n"
     ]
    }
   ],
   "source": [
    "from sklearn.linear_model import LogisticRegression\n",
    "log_reg=LogisticRegression(solver=\"liblinear\",verbose=2)\n",
    "print(\"Training Started.....\\n\")\n",
    "print()\n",
    "log_reg.fit(xtrain,ytrain)\n",
    "print()\n",
    "print()\n",
    "print(\"Training completed....\")\n",
    "print()\n",
    "print(\"Testing invoked\")\n",
    "ypred=log_reg.predict(xtest)\n",
    "print(\"predicted Total Outputs\\n\",ypred)\n",
    "print('\\n Testing is also completed....\\n')"
   ]
  },
  {
   "cell_type": "code",
   "execution_count": 26,
   "id": "76e8f8ee",
   "metadata": {},
   "outputs": [
    {
     "name": "stdout",
     "output_type": "stream",
     "text": [
      "********************Performance Measures for Logistic Regression Classification*********\n",
      "Accuracy Score:\t\n",
      " 0.14285714285714285\n",
      "\n",
      "================================================================================\n",
      "Confusion Matrix:\n",
      " [[0 5]\n",
      " [1 1]]\n",
      "\n",
      "================================================================================\n",
      "Classification Report: \n",
      "               precision    recall  f1-score   support\n",
      "\n",
      "           0       0.00      0.00      0.00         5\n",
      "           1       0.17      0.50      0.25         2\n",
      "\n",
      "    accuracy                           0.14         7\n",
      "   macro avg       0.08      0.25      0.12         7\n",
      "weighted avg       0.05      0.14      0.07         7\n",
      "\n",
      "================================================================================\n"
     ]
    }
   ],
   "source": [
    "from sklearn.metrics import accuracy_score\n",
    "\n",
    "from sklearn.metrics import confusion_matrix\n",
    "from sklearn.metrics import classification_report\n",
    "print('********************Performance Measures for Logistic Regression Classification*********')\n",
    "print('Accuracy Score:\\t\\n', accuracy_score(ytest, ypred))\n",
    "print()\n",
    "print('='*80)\n",
    "print('Confusion Matrix:\\n', confusion_matrix(ytest,ypred))\n",
    "print()\n",
    "print('='*80)\n",
    "print('Classification Report: \\n', classification_report(ytest,ypred))\n",
    "print('='*80)"
   ]
  },
  {
   "cell_type": "code",
   "execution_count": 29,
   "id": "37f3e619",
   "metadata": {},
   "outputs": [
    {
     "data": {
      "text/plain": [
       "(19, 3)"
      ]
     },
     "execution_count": 29,
     "metadata": {},
     "output_type": "execute_result"
    }
   ],
   "source": [
    "xtrain.shape"
   ]
  },
  {
   "cell_type": "code",
   "execution_count": 32,
   "id": "94df02a0",
   "metadata": {},
   "outputs": [
    {
     "data": {
      "text/plain": [
       "0    13\n",
       "1    13\n",
       "Name: is_fraud, dtype: int64"
      ]
     },
     "execution_count": 32,
     "metadata": {},
     "output_type": "execute_result"
    }
   ],
   "source": [
    "y_resampledx['is_fraud'].value_counts()"
   ]
  },
  {
   "cell_type": "code",
   "execution_count": 33,
   "id": "78655ec3",
   "metadata": {},
   "outputs": [
    {
     "data": {
      "text/plain": [
       "array([0, 1], dtype=int64)"
      ]
     },
     "execution_count": 33,
     "metadata": {},
     "output_type": "execute_result"
    }
   ],
   "source": [
    "log_reg.classes_"
   ]
  },
  {
   "cell_type": "code",
   "execution_count": 34,
   "id": "902698f9",
   "metadata": {},
   "outputs": [
    {
     "data": {
      "text/plain": [
       "array([[ 0.00200314,  0.02102014, -0.03211148]])"
      ]
     },
     "execution_count": 34,
     "metadata": {},
     "output_type": "execute_result"
    }
   ],
   "source": [
    "log_reg.coef_"
   ]
  },
  {
   "cell_type": "code",
   "execution_count": 35,
   "id": "5f7aad39",
   "metadata": {},
   "outputs": [
    {
     "data": {
      "text/plain": [
       "<bound method LinearClassifierMixin.decision_function of LogisticRegression(solver='liblinear', verbose=2)>"
      ]
     },
     "execution_count": 35,
     "metadata": {},
     "output_type": "execute_result"
    }
   ],
   "source": [
    "log_reg.decision_function"
   ]
  },
  {
   "cell_type": "code",
   "execution_count": 36,
   "id": "50593c11",
   "metadata": {},
   "outputs": [
    {
     "data": {
      "text/plain": [
       "False"
      ]
     },
     "execution_count": 36,
     "metadata": {},
     "output_type": "execute_result"
    }
   ],
   "source": [
    "log_reg.dual"
   ]
  },
  {
   "cell_type": "code",
   "execution_count": 37,
   "id": "96736602",
   "metadata": {},
   "outputs": [
    {
     "data": {
      "text/plain": [
       "array(['trans_date_trans_time', 'trans_num', 'first'], dtype=object)"
      ]
     },
     "execution_count": 37,
     "metadata": {},
     "output_type": "execute_result"
    }
   ],
   "source": [
    "log_reg.feature_names_in_"
   ]
  },
  {
   "cell_type": "code",
   "execution_count": 38,
   "id": "e46c9003",
   "metadata": {},
   "outputs": [
    {
     "data": {
      "text/plain": [
       "True"
      ]
     },
     "execution_count": 38,
     "metadata": {},
     "output_type": "execute_result"
    }
   ],
   "source": [
    "log_reg.fit_intercept"
   ]
  },
  {
   "cell_type": "code",
   "execution_count": 39,
   "id": "b064f19b",
   "metadata": {},
   "outputs": [
    {
     "data": {
      "text/plain": [
       "array([0.29143594])"
      ]
     },
     "execution_count": 39,
     "metadata": {},
     "output_type": "execute_result"
    }
   ],
   "source": [
    "log_reg.intercept_"
   ]
  },
  {
   "cell_type": "code",
   "execution_count": 40,
   "id": "c5d22ea9",
   "metadata": {},
   "outputs": [
    {
     "data": {
      "text/plain": [
       "{'C': 1.0,\n",
       " 'class_weight': None,\n",
       " 'dual': False,\n",
       " 'fit_intercept': True,\n",
       " 'intercept_scaling': 1,\n",
       " 'l1_ratio': None,\n",
       " 'max_iter': 100,\n",
       " 'multi_class': 'auto',\n",
       " 'n_jobs': None,\n",
       " 'penalty': 'l2',\n",
       " 'random_state': None,\n",
       " 'solver': 'liblinear',\n",
       " 'tol': 0.0001,\n",
       " 'verbose': 2,\n",
       " 'warm_start': False}"
      ]
     },
     "execution_count": 40,
     "metadata": {},
     "output_type": "execute_result"
    }
   ],
   "source": [
    "log_reg.get_params()"
   ]
  },
  {
   "cell_type": "code",
   "execution_count": 49,
   "id": "607bb670",
   "metadata": {},
   "outputs": [
    {
     "data": {
      "text/plain": [
       "array([0.83686918, 0.68669831, 0.82466897, 0.35358419, 0.73316999,\n",
       "       0.52279998, 0.81411099])"
      ]
     },
     "execution_count": 49,
     "metadata": {},
     "output_type": "execute_result"
    }
   ],
   "source": [
    "y_pb=log_reg.predict_proba(xtest)[:,1]\n",
    "y_pb"
   ]
  },
  {
   "cell_type": "code",
   "execution_count": 50,
   "id": "1efc80e1",
   "metadata": {},
   "outputs": [
    {
     "data": {
      "image/png": "[encoded data removed]",
      "text/plain": [
       "<Figure size 800x600 with 1 Axes>"
      ]
     },
     "metadata": {},
     "output_type": "display_data"
    }
   ],
   "source": [
    "from sklearn.metrics import roc_curve,roc_auc_score,auc\n",
    "\n",
    "fpr,tpr,thresholds=roc_curve(ytest,y_pb)\n",
    "roc_curve=auc(fpr,tpr)\n",
    "plt.figure(figsize=(8,6))\n",
    "plt.plot(fpr,tpr,label='ROC Curve')\n",
    "plt.title(\"ROC Curve\")\n",
    "plt.xlabel(\"False Positive Curve\")\n",
    "plt.ylabel(\"True Positive Curve\")\n",
    "plt.legend()\n",
    "plt.show()"
   ]
  },
  {
   "cell_type": "code",
   "execution_count": 51,
   "id": "4167a20a",
   "metadata": {},
   "outputs": [
    {
     "data": {
      "text/plain": [
       "0.0"
      ]
     },
     "execution_count": 51,
     "metadata": {},
     "output_type": "execute_result"
    }
   ],
   "source": [
    "roc_curve"
   ]
  },
  {
   "cell_type": "code",
   "execution_count": null,
   "id": "32731756",
   "metadata": {},
   "outputs": [],
   "source": []
  }
 ],
 "metadata": {
  "kernelspec": {
   "display_name": "Python 3 (ipykernel)",
   "language": "python",
   "name": "python3"
  },
  "language_info": {
   "codemirror_mode": {
    "name": "ipython",
    "version": 3
   },
   "file_extension": ".py",
   "mimetype": "text/x-python",
   "name": "python",
   "nbconvert_exporter": "python",
   "pygments_lexer": "ipython3",
   "version": "3.11.4"
  }
 },
 "nbformat": 4,
 "nbformat_minor": 5
}
